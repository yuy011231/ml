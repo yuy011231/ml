{
 "cells": [
  {
   "cell_type": "markdown",
   "id": "34f6ea6f-22a6-49af-a36a-26d6f8432d4f",
   "metadata": {},
   "source": [
    "### サイト\n",
    "https://qiita.com/kkk777/items/a77c28fcd27fe0c67085\n"
   ]
  },
  {
   "cell_type": "code",
   "execution_count": null,
   "id": "86e9d033-2ce9-42ce-99b4-00ccfedf61a5",
   "metadata": {},
   "outputs": [],
   "source": []
  }
 ],
 "metadata": {
  "kernelspec": {
   "display_name": "Python 3 (ipykernel)",
   "language": "python",
   "name": "python3"
  },
  "language_info": {
   "codemirror_mode": {
    "name": "ipython",
    "version": 3
   },
   "file_extension": ".py",
   "mimetype": "text/x-python",
   "name": "python",
   "nbconvert_exporter": "python",
   "pygments_lexer": "ipython3",
   "version": "3.11.13"
  }
 },
 "nbformat": 4,
 "nbformat_minor": 5
}
